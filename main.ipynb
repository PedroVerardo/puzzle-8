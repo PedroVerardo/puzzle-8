{
 "cells": [
  {
   "cell_type": "code",
   "execution_count": 1,
   "metadata": {},
   "outputs": [],
   "source": [
    "from gera_grafo_estados import gera_grafo, imprime_estado\n",
    "from bfs import BFS_ENV"
   ]
  },
  {
   "cell_type": "code",
   "execution_count": 2,
   "metadata": {},
   "outputs": [
    {
     "name": "stdout",
     "output_type": "stream",
     "text": [
      "Gerando grafo de estados.\n",
      "Grafo de estados gerado\n"
     ]
    }
   ],
   "source": [
    "print(\"Gerando grafo de estados.\")\n",
    "grafo = gera_grafo()\n",
    "print(\"Grafo de estados gerado\")"
   ]
  },
  {
   "cell_type": "code",
   "execution_count": 3,
   "metadata": {},
   "outputs": [],
   "source": [
    "bfs_env = BFS_ENV(grafo)"
   ]
  },
  {
   "cell_type": "code",
   "execution_count": 4,
   "metadata": {},
   "outputs": [
    {
     "name": "stdout",
     "output_type": "stream",
     "text": [
      "Componentes conexos: 1\n",
      "Componentes conexos: 2\n",
      "2\n"
     ]
    }
   ],
   "source": [
    "print(bfs_env.BFS())"
   ]
  },
  {
   "cell_type": "code",
   "execution_count": 8,
   "metadata": {},
   "outputs": [
    {
     "name": "stdout",
     "output_type": "stream",
     "text": [
      "---------\n",
      "| 8 6 7 |\n",
      "| 2 5 4 |\n",
      "| 3   1 |\n",
      "---------\n",
      "---------\n",
      "| 6 4 7 |\n",
      "| 8 5   |\n",
      "| 3 2 1 |\n",
      "---------\n"
     ]
    }
   ],
   "source": [
    "destino=str([1,2,3,4,5,6,7,8,9])\n",
    "\n",
    "cfgs = bfs_env.get_cfg_mais_dificeis(destino)\n",
    "\n",
    "for cfg in cfgs:\n",
    "    imprime_estado(cfg)\n"
   ]
  },
  {
   "cell_type": "code",
   "execution_count": 10,
   "metadata": {},
   "outputs": [
    {
     "name": "stdout",
     "output_type": "stream",
     "text": [
      "Tamanho do caminho mais difícil: 32\n",
      "---------\n",
      "| 8 6 7 |\n",
      "| 2 5 4 |\n",
      "| 3   1 |\n",
      "---------\n",
      "---------\n",
      "| 8 6 7 |\n",
      "| 2   4 |\n",
      "| 3 5 1 |\n",
      "---------\n",
      "---------\n",
      "| 8   7 |\n",
      "| 2 6 4 |\n",
      "| 3 5 1 |\n",
      "---------\n",
      "---------\n",
      "|   8 7 |\n",
      "| 2 6 4 |\n",
      "| 3 5 1 |\n",
      "---------\n",
      "---------\n",
      "| 2 8 7 |\n",
      "|   6 4 |\n",
      "| 3 5 1 |\n",
      "---------\n",
      "---------\n",
      "| 2 8 7 |\n",
      "| 3 6 4 |\n",
      "|   5 1 |\n",
      "---------\n",
      "---------\n",
      "| 2 8 7 |\n",
      "| 3 6 4 |\n",
      "| 5   1 |\n",
      "---------\n",
      "---------\n",
      "| 2 8 7 |\n",
      "| 3 6 4 |\n",
      "| 5 1   |\n",
      "---------\n",
      "---------\n",
      "| 2 8 7 |\n",
      "| 3 6   |\n",
      "| 5 1 4 |\n",
      "---------\n",
      "---------\n",
      "| 2 8   |\n",
      "| 3 6 7 |\n",
      "| 5 1 4 |\n",
      "---------\n",
      "---------\n",
      "| 2   8 |\n",
      "| 3 6 7 |\n",
      "| 5 1 4 |\n",
      "---------\n",
      "---------\n",
      "| 2 6 8 |\n",
      "| 3   7 |\n",
      "| 5 1 4 |\n",
      "---------\n",
      "---------\n",
      "| 2 6 8 |\n",
      "|   3 7 |\n",
      "| 5 1 4 |\n",
      "---------\n",
      "---------\n",
      "| 2 6 8 |\n",
      "| 5 3 7 |\n",
      "|   1 4 |\n",
      "---------\n",
      "---------\n",
      "| 2 6 8 |\n",
      "| 5 3 7 |\n",
      "| 1   4 |\n",
      "---------\n",
      "---------\n",
      "| 2 6 8 |\n",
      "| 5 3 7 |\n",
      "| 1 4   |\n",
      "---------\n",
      "---------\n",
      "| 2 6 8 |\n",
      "| 5 3   |\n",
      "| 1 4 7 |\n",
      "---------\n",
      "---------\n",
      "| 2 6   |\n",
      "| 5 3 8 |\n",
      "| 1 4 7 |\n",
      "---------\n",
      "---------\n",
      "| 2   6 |\n",
      "| 5 3 8 |\n",
      "| 1 4 7 |\n",
      "---------\n",
      "---------\n",
      "| 2 3 6 |\n",
      "| 5   8 |\n",
      "| 1 4 7 |\n",
      "---------\n",
      "---------\n",
      "| 2 3 6 |\n",
      "|   5 8 |\n",
      "| 1 4 7 |\n",
      "---------\n",
      "---------\n",
      "| 2 3 6 |\n",
      "| 1 5 8 |\n",
      "|   4 7 |\n",
      "---------\n",
      "---------\n",
      "| 2 3 6 |\n",
      "| 1 5 8 |\n",
      "| 4   7 |\n",
      "---------\n",
      "---------\n",
      "| 2 3 6 |\n",
      "| 1 5 8 |\n",
      "| 4 7   |\n",
      "---------\n",
      "---------\n",
      "| 2 3 6 |\n",
      "| 1 5   |\n",
      "| 4 7 8 |\n",
      "---------\n",
      "---------\n",
      "| 2 3   |\n",
      "| 1 5 6 |\n",
      "| 4 7 8 |\n",
      "---------\n",
      "---------\n",
      "| 2   3 |\n",
      "| 1 5 6 |\n",
      "| 4 7 8 |\n",
      "---------\n",
      "---------\n",
      "|   2 3 |\n",
      "| 1 5 6 |\n",
      "| 4 7 8 |\n",
      "---------\n",
      "---------\n",
      "| 1 2 3 |\n",
      "|   5 6 |\n",
      "| 4 7 8 |\n",
      "---------\n",
      "---------\n",
      "| 1 2 3 |\n",
      "| 4 5 6 |\n",
      "|   7 8 |\n",
      "---------\n",
      "---------\n",
      "| 1 2 3 |\n",
      "| 4 5 6 |\n",
      "| 7   8 |\n",
      "---------\n",
      "---------\n",
      "| 1 2 3 |\n",
      "| 4 5 6 |\n",
      "| 7 8   |\n",
      "---------\n"
     ]
    }
   ],
   "source": [
    "origem = cfgs[0]\n",
    "\n",
    "caminho = bfs_env.get_menor_caminho(origem,destino)\n",
    "\n",
    "print(f\"Tamanho do caminho mais difícil: {len(caminho)-1}\")\n",
    "\n",
    "for estado in caminho:\n",
    "    imprime_estado(estado)"
   ]
  },
  {
   "cell_type": "code",
   "execution_count": null,
   "metadata": {},
   "outputs": [],
   "source": []
  }
 ],
 "metadata": {
  "kernelspec": {
   "display_name": "Python 3",
   "language": "python",
   "name": "python3"
  },
  "language_info": {
   "codemirror_mode": {
    "name": "ipython",
    "version": 3
   },
   "file_extension": ".py",
   "mimetype": "text/x-python",
   "name": "python",
   "nbconvert_exporter": "python",
   "pygments_lexer": "ipython3",
   "version": "3.11.7"
  }
 },
 "nbformat": 4,
 "nbformat_minor": 2
}
