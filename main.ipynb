{
 "cells": [
  {
   "cell_type": "markdown",
   "metadata": {},
   "source": [
    "# Trabalho 2 - Análise de Algoritmos\n",
    "\n",
    "Pedro Lopes - 1911346\n",
    "\n",
    "Jeronimo Augusto Soares - 1921209\n"
   ]
  },
  {
   "cell_type": "markdown",
   "metadata": {},
   "source": [
    "## Tarefa 1: Criação do grafo de espaço de estados"
   ]
  },
  {
   "cell_type": "code",
   "execution_count": 1,
   "metadata": {},
   "outputs": [],
   "source": [
    "from gera_grafo_estados import gera_grafo, imprime_estado\n",
    "from bfs import BFS_ENV"
   ]
  },
  {
   "cell_type": "code",
   "execution_count": 2,
   "metadata": {},
   "outputs": [
    {
     "name": "stdout",
     "output_type": "stream",
     "text": [
      "Gerando grafo de estados.\n",
      "Grafo de estados gerado\n"
     ]
    }
   ],
   "source": [
    "print(\"Gerando grafo de estados.\")\n",
    "grafo = gera_grafo()\n",
    "print(\"Grafo de estados gerado\")"
   ]
  },
  {
   "cell_type": "markdown",
   "metadata": {},
   "source": [
    "### 1. Quantos nós e aresta existem no grafo do espaço"
   ]
  },
  {
   "cell_type": "markdown",
   "metadata": {},
   "source": [
    "`n` é o número de nós.\n",
    "\n",
    "`m` é o número de arestas."
   ]
  },
  {
   "cell_type": "code",
   "execution_count": 3,
   "metadata": {},
   "outputs": [
    {
     "name": "stdout",
     "output_type": "stream",
     "text": [
      "n=362880\n",
      "m=483840\n"
     ]
    }
   ],
   "source": [
    "n = len(grafo)\n",
    "m = 0\n",
    "for no in grafo:\n",
    "    m+=len(grafo[no])\n",
    "m //= 2\n",
    "\n",
    "print(f\"{n=}\\n{m=}\")"
   ]
  },
  {
   "cell_type": "markdown",
   "metadata": {},
   "source": [
    "### 2. Um exemplo de dois nós no grafo conectados por uma aresta"
   ]
  },
  {
   "cell_type": "code",
   "execution_count": 4,
   "metadata": {},
   "outputs": [
    {
     "name": "stdout",
     "output_type": "stream",
     "text": [
      "---------\n",
      "| 1 2 3 |\n",
      "| 4 5 6 |\n",
      "| 7 8   |\n",
      "---------\n",
      "---------\n",
      "| 1 2 3 |\n",
      "| 4 5   |\n",
      "| 7 8 6 |\n",
      "---------\n"
     ]
    }
   ],
   "source": [
    "no1 = [1,2,3,4,5,6,7,8,9]\n",
    "no2 = [1,2,3,4,5,9,7,8,6]\n",
    "\n",
    "imprime_estado(no1)\n",
    "imprime_estado(no2)"
   ]
  },
  {
   "cell_type": "markdown",
   "metadata": {},
   "source": [
    "### 3. Um exemplo de dois nós no grafo que não tem um aresta entre eles"
   ]
  },
  {
   "cell_type": "code",
   "execution_count": 5,
   "metadata": {},
   "outputs": [
    {
     "name": "stdout",
     "output_type": "stream",
     "text": [
      "---------\n",
      "| 1 2 3 |\n",
      "| 4 5 6 |\n",
      "| 7 8   |\n",
      "---------\n",
      "---------\n",
      "|   8 7 |\n",
      "| 6 5 4 |\n",
      "| 3 2 1 |\n",
      "---------\n"
     ]
    }
   ],
   "source": [
    "no1 = [1,2,3,4,5,6,7,8,9]\n",
    "no2 = [9,8,7,6,5,4,3,2,1]\n",
    "\n",
    "imprime_estado(no1)\n",
    "imprime_estado(no2)"
   ]
  },
  {
   "cell_type": "markdown",
   "metadata": {},
   "source": [
    "## Tarefa 2: Implementação de BFS e contagem de componentes conexos"
   ]
  },
  {
   "cell_type": "markdown",
   "metadata": {},
   "source": [
    "### 1. Cóodigo principal da sua BFS\n",
    "\n",
    "~~~python\n",
    "    def _BFS(self,  start_node):\n",
    "        start_node = str(start_node)\n",
    "        i = 1\n",
    "        l = []\n",
    "        l.append([start_node])\n",
    "        self.parents[start_node] = None\n",
    "        self.visited.add(start_node)\n",
    "        while True:\n",
    "            l.append([])\n",
    "            for node in l[i-1]:\n",
    "                for neighbor in self.grafo[node]:\n",
    "                    if neighbor not in self.visited:\n",
    "                        l[i].append(neighbor)\n",
    "                        self.parents[neighbor] = node\n",
    "                        self.visited.add(neighbor)\n",
    "            if len(l[i]) == 0:\n",
    "                return l\n",
    "            i+=1\n",
    "~~~"
   ]
  },
  {
   "cell_type": "markdown",
   "metadata": {},
   "source": [
    "### 2. Quantidade de componentes conexos"
   ]
  },
  {
   "cell_type": "code",
   "execution_count": 6,
   "metadata": {},
   "outputs": [
    {
     "name": "stdout",
     "output_type": "stream",
     "text": [
      "Quantidade de componentes conexos: 2\n"
     ]
    }
   ],
   "source": [
    "bfs_env = BFS_ENV(grafo)\n",
    "\n",
    "qtd = bfs_env.get_qtd_componentes_conexos()\n",
    "\n",
    "print(f\"Quantidade de componentes conexos: {qtd}\")"
   ]
  },
  {
   "cell_type": "markdown",
   "metadata": {},
   "source": [
    "## Tarefa 3: Caminhos mais curto"
   ]
  },
  {
   "cell_type": "code",
   "execution_count": 7,
   "metadata": {},
   "outputs": [
    {
     "name": "stdout",
     "output_type": "stream",
     "text": [
      "---------\n",
      "| 1 2 3 |\n",
      "| 4 5 6 |\n",
      "| 7 8   |\n",
      "---------\n"
     ]
    }
   ],
   "source": [
    "cfg_final = [1,2,3,4,5,6,7,8,9]\n",
    "\n",
    "imprime_estado(cfg_final)"
   ]
  },
  {
   "cell_type": "markdown",
   "metadata": {},
   "source": [
    "### 1. Configuração inicial viável mais difícil\n",
    "\n",
    "A configuração inicial viável que necessita o maior núumero de movimentos para se chegar a configuração final:"
   ]
  },
  {
   "cell_type": "code",
   "execution_count": 8,
   "metadata": {},
   "outputs": [
    {
     "name": "stdout",
     "output_type": "stream",
     "text": [
      "---------\n",
      "| 8 6 7 |\n",
      "| 2 5 4 |\n",
      "| 3   1 |\n",
      "---------\n",
      "---------\n",
      "| 6 4 7 |\n",
      "| 8 5   |\n",
      "| 3 2 1 |\n",
      "---------\n"
     ]
    }
   ],
   "source": [
    "cfgs = bfs_env.get_cfg_mais_dificeis(cfg_final)\n",
    "\n",
    "for cfg in cfgs:\n",
    "    imprime_estado(cfg)\n"
   ]
  },
  {
   "cell_type": "markdown",
   "metadata": {},
   "source": [
    "Observamos que há duas configurações iniciais com o mesmo tamanho de caminho mais curto da configuração final tal que este tamanho é máximo."
   ]
  },
  {
   "cell_type": "markdown",
   "metadata": {},
   "source": [
    "### 2. Tamanho do maior menor caminho\n",
    "\n",
    "Número de movimentos necessários para ir da configuração inicial para a final"
   ]
  },
  {
   "cell_type": "code",
   "execution_count": 10,
   "metadata": {},
   "outputs": [
    {
     "name": "stdout",
     "output_type": "stream",
     "text": [
      "Tamanho do caminho mais difícil: 31\n",
      "---------\n",
      "| 8 6 7 |\n",
      "| 2 5 4 |\n",
      "| 3   1 |\n",
      "---------\n",
      "---------\n",
      "| 8 6 7 |\n",
      "| 2   4 |\n",
      "| 3 5 1 |\n",
      "---------\n",
      "---------\n",
      "| 8   7 |\n",
      "| 2 6 4 |\n",
      "| 3 5 1 |\n",
      "---------\n",
      "---------\n",
      "|   8 7 |\n",
      "| 2 6 4 |\n",
      "| 3 5 1 |\n",
      "---------\n",
      "---------\n",
      "| 2 8 7 |\n",
      "|   6 4 |\n",
      "| 3 5 1 |\n",
      "---------\n",
      "---------\n",
      "| 2 8 7 |\n",
      "| 3 6 4 |\n",
      "|   5 1 |\n",
      "---------\n",
      "---------\n",
      "| 2 8 7 |\n",
      "| 3 6 4 |\n",
      "| 5   1 |\n",
      "---------\n",
      "---------\n",
      "| 2 8 7 |\n",
      "| 3 6 4 |\n",
      "| 5 1   |\n",
      "---------\n",
      "---------\n",
      "| 2 8 7 |\n",
      "| 3 6   |\n",
      "| 5 1 4 |\n",
      "---------\n",
      "---------\n",
      "| 2 8   |\n",
      "| 3 6 7 |\n",
      "| 5 1 4 |\n",
      "---------\n",
      "---------\n",
      "| 2   8 |\n",
      "| 3 6 7 |\n",
      "| 5 1 4 |\n",
      "---------\n",
      "---------\n",
      "| 2 6 8 |\n",
      "| 3   7 |\n",
      "| 5 1 4 |\n",
      "---------\n",
      "---------\n",
      "| 2 6 8 |\n",
      "|   3 7 |\n",
      "| 5 1 4 |\n",
      "---------\n",
      "---------\n",
      "| 2 6 8 |\n",
      "| 5 3 7 |\n",
      "|   1 4 |\n",
      "---------\n",
      "---------\n",
      "| 2 6 8 |\n",
      "| 5 3 7 |\n",
      "| 1   4 |\n",
      "---------\n",
      "---------\n",
      "| 2 6 8 |\n",
      "| 5 3 7 |\n",
      "| 1 4   |\n",
      "---------\n",
      "---------\n",
      "| 2 6 8 |\n",
      "| 5 3   |\n",
      "| 1 4 7 |\n",
      "---------\n",
      "---------\n",
      "| 2 6   |\n",
      "| 5 3 8 |\n",
      "| 1 4 7 |\n",
      "---------\n",
      "---------\n",
      "| 2   6 |\n",
      "| 5 3 8 |\n",
      "| 1 4 7 |\n",
      "---------\n",
      "---------\n",
      "| 2 3 6 |\n",
      "| 5   8 |\n",
      "| 1 4 7 |\n",
      "---------\n",
      "---------\n",
      "| 2 3 6 |\n",
      "|   5 8 |\n",
      "| 1 4 7 |\n",
      "---------\n",
      "---------\n",
      "| 2 3 6 |\n",
      "| 1 5 8 |\n",
      "|   4 7 |\n",
      "---------\n",
      "---------\n",
      "| 2 3 6 |\n",
      "| 1 5 8 |\n",
      "| 4   7 |\n",
      "---------\n",
      "---------\n",
      "| 2 3 6 |\n",
      "| 1 5 8 |\n",
      "| 4 7   |\n",
      "---------\n",
      "---------\n",
      "| 2 3 6 |\n",
      "| 1 5   |\n",
      "| 4 7 8 |\n",
      "---------\n",
      "---------\n",
      "| 2 3   |\n",
      "| 1 5 6 |\n",
      "| 4 7 8 |\n",
      "---------\n",
      "---------\n",
      "| 2   3 |\n",
      "| 1 5 6 |\n",
      "| 4 7 8 |\n",
      "---------\n",
      "---------\n",
      "|   2 3 |\n",
      "| 1 5 6 |\n",
      "| 4 7 8 |\n",
      "---------\n",
      "---------\n",
      "| 1 2 3 |\n",
      "|   5 6 |\n",
      "| 4 7 8 |\n",
      "---------\n",
      "---------\n",
      "| 1 2 3 |\n",
      "| 4 5 6 |\n",
      "|   7 8 |\n",
      "---------\n",
      "---------\n",
      "| 1 2 3 |\n",
      "| 4 5 6 |\n",
      "| 7   8 |\n",
      "---------\n",
      "---------\n",
      "| 1 2 3 |\n",
      "| 4 5 6 |\n",
      "| 7 8   |\n",
      "---------\n"
     ]
    }
   ],
   "source": [
    "# Escolhemos a primeira configuração dentre as possíveis candidatas\n",
    "cfg_inicial = cfgs[0]\n",
    "\n",
    "caminho = bfs_env.get_menor_caminho(cfg_inicial, cfg_final)\n",
    "\n",
    "# Observe que o primeiro estado também está no caminho,\n",
    "# logo o tamanho é quantidade de nós do caminho menos 1\n",
    "tamanho = len(caminho) - 1\n",
    "\n",
    "print(f\"Tamanho do caminho mais difícil: {tamanho}\")\n",
    "\n",
    "for estado in caminho:\n",
    "    imprime_estado(estado)"
   ]
  }
 ],
 "metadata": {
  "kernelspec": {
   "display_name": "Python 3 (ipykernel)",
   "language": "python",
   "name": "python3"
  },
  "language_info": {
   "codemirror_mode": {
    "name": "ipython",
    "version": 3
   },
   "file_extension": ".py",
   "mimetype": "text/x-python",
   "name": "python",
   "nbconvert_exporter": "python",
   "pygments_lexer": "ipython3",
   "version": "3.11.7"
  }
 },
 "nbformat": 4,
 "nbformat_minor": 2
}
